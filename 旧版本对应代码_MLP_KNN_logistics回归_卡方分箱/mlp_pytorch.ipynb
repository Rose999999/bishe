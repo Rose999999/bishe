{
 "cells": [
  {
   "cell_type": "code",
   "execution_count": 40,
   "metadata": {},
   "outputs": [],
   "source": [
    "from sklearn import datasets\n",
    "import random\n",
    "import numpy as np\n",
    "import sklearn\n",
    "from sklearn.preprocessing import StandardScaler\n",
    "from sklearn.neighbors import KNeighborsClassifier\n",
    "from sklearn.metrics import classification_report\n",
    "from sklearn.decomposition import PCA \n",
    "import matplotlib.pyplot as plt\n",
    "import pandas as pd\n",
    "\n",
    "file_str = 'C:/Users/16010/Desktop/分数据集.xlsx'\n",
    "data = pd.read_excel(file_str,header=None,sep=' ').values\n",
    "\n",
    "m = data.shape[0]      #样本个数\n",
    "n = data.shape[1] - 1    #特征个数\n",
    "\n",
    "x_data = data[:,0:n]\n",
    "y_data = data[:,n:n+1]\n",
    "\n",
    "x_train = x_data[0:97]\n",
    "x_test = x_data[97:124]\n",
    "y_train = y_data[0:97].tolist()\n",
    "y_test = y_data[97:124].tolist()\n",
    "\n",
    "ss = StandardScaler()\n",
    "zscore = ss.fit(x_train)\n",
    "train_d = zscore.transform(x_train)\n",
    "test_d = zscore.transform(x_test)"
   ]
  },
  {
   "cell_type": "code",
   "execution_count": null,
   "metadata": {},
   "outputs": [],
   "source": [
    "print(len(y_test))\n",
    "print(len(y_train))\n",
    "print(y_test[1])"
   ]
  },
  {
   "cell_type": "code",
   "execution_count": 41,
   "metadata": {},
   "outputs": [],
   "source": [
    "for i in range(len(y_train)):\n",
    "    y_train[i] = y_train[i][0]\n",
    "for i in range(len(y_test)):\n",
    "    y_test[i] = y_test[i][0]"
   ]
  },
  {
   "cell_type": "code",
   "execution_count": 42,
   "metadata": {},
   "outputs": [],
   "source": [
    "y_train_onehot = np.zeros([97,4])\n",
    "y_test_onehot = np.zeros([26,4])\n",
    "for i in range(len(y_test)):\n",
    "    y_test_onehot[i][int(y_test[i])] = 1\n",
    "for i in range(len(y_train)):\n",
    "    y_train_onehot[i][int(y_train[i])] = 1"
   ]
  },
  {
   "cell_type": "code",
   "execution_count": null,
   "metadata": {},
   "outputs": [],
   "source": [
    "y_train_onehot"
   ]
  },
  {
   "cell_type": "code",
   "execution_count": 43,
   "metadata": {},
   "outputs": [
    {
     "name": "stdout",
     "output_type": "stream",
     "text": [
      "MLP(\n",
      "  (fc1): Linear(in_features=5, out_features=72, bias=True)\n",
      "  (fc2): Linear(in_features=72, out_features=36, bias=True)\n",
      "  (fc3): Linear(in_features=36, out_features=4, bias=True)\n",
      ")\n"
     ]
    }
   ],
   "source": [
    "import torch as pt\n",
    "\n",
    "class MLP(pt.nn.Module):\n",
    "    def __init__(self):\n",
    "        super(MLP,self).__init__()\n",
    "        self.fc1 = pt.nn.Linear(5,72)\n",
    "        self.fc2 = pt.nn.Linear(72,36)\n",
    "        self.fc3 = pt.nn.Linear(36,4)\n",
    "        \n",
    "    def forward(self,din):\n",
    "        #din = din.view(-1,28*28)\n",
    "        dout = pt.nn.functional.relu(self.fc1(din))\n",
    "        dout = pt.nn.functional.relu(self.fc2(dout))\n",
    "        return pt.nn.functional.softmax(self.fc3(dout))\n",
    "model = MLP().cuda()\n",
    "print(model)"
   ]
  },
  {
   "cell_type": "code",
   "execution_count": 44,
   "metadata": {},
   "outputs": [],
   "source": [
    "# loss func and optim\n",
    "optimizer = pt.optim.SGD(model.parameters(),lr=0.01,momentum=0.9)\n",
    "lossfunc = pt.nn.CrossEntropyLoss().cuda()\n",
    "\n",
    "# accuarcy\n",
    "def AccuarcyCompute(pred,label):\n",
    "    pred = pred.cpu().data.numpy()\n",
    "    label = label.cpu().data.numpy()\n",
    "#     print(pred.shape(),label.shape())\n",
    "    test_np = (np.argmax(pred,1) == label)\n",
    "    test_np = np.float32(test_np)\n",
    "    return np.mean(test_np)"
   ]
  },
  {
   "cell_type": "code",
   "execution_count": 59,
   "metadata": {},
   "outputs": [
    {
     "name": "stderr",
     "output_type": "stream",
     "text": [
      "c:\\program files (x86)\\microsoft visual studio\\shared\\python36_64\\lib\\site-packages\\ipykernel_launcher.py:14: UserWarning: Implicit dimension choice for softmax has been deprecated. Change the call to include dim=X as an argument.\n",
      "  \n"
     ]
    },
    {
     "name": "stdout",
     "output_type": "stream",
     "text": [
      "0 60 / 97\n",
      "==========\n",
      "50 62 / 97\n",
      "==========\n",
      "100 63 / 97\n",
      "==========\n",
      "150 64 / 97\n",
      "==========\n",
      "200 64 / 97\n",
      "==========\n",
      "250 64 / 97\n",
      "==========\n",
      "300 64 / 97\n",
      "==========\n",
      "350 64 / 97\n",
      "==========\n",
      "400 64 / 97\n",
      "==========\n",
      "450 64 / 97\n",
      "==========\n",
      "500 64 / 97\n",
      "==========\n",
      "550 64 / 97\n",
      "==========\n",
      "600 64 / 97\n",
      "==========\n",
      "650 66 / 97\n",
      "==========\n",
      "700 65 / 97\n",
      "==========\n",
      "750 67 / 97\n",
      "==========\n",
      "800 67 / 97\n",
      "==========\n",
      "850 69 / 97\n",
      "==========\n",
      "900 69 / 97\n",
      "==========\n"
     ]
    }
   ],
   "source": [
    "for x in range(901):\n",
    "    \n",
    "    \n",
    "    optimizer.zero_grad()\n",
    "\n",
    "    inputs = pt.from_numpy(np.array(train_d)).float()\n",
    "    labels = pt.from_numpy(np.array(y_train)).long()\n",
    "    #print(labels)\n",
    "    #print(inputs)\n",
    "    inputs = pt.autograd.Variable(inputs).cuda()\n",
    "    labels = pt.autograd.Variable(labels).cuda()\n",
    "\n",
    "    outputs = model(inputs)\n",
    "\n",
    "    loss = lossfunc(outputs,labels)\n",
    "    loss.backward()\n",
    "\n",
    "    optimizer.step()\n",
    "    \n",
    "    if x % 50 == 0:\n",
    "        pred = outputs.cpu().data.numpy()\n",
    "        label = labels.cpu().data.numpy()\n",
    "        m = pred.argmax(1)\n",
    "        acc = 0\n",
    "        for i in range(len(pred)):\n",
    "            if(m[i] == label[i]): acc += 1\n",
    "            #print(m)\n",
    "            #print(label)\n",
    "        print(x,acc,'/',len(pred))\n",
    "        print('==========')\n",
    "            \n",
    "        #print(x,\":\",AccuarcyCompute(outputs,labels))\n",
    "    #print(outputs)\n",
    "    \n",
    "    #print(labels)"
   ]
  },
  {
   "cell_type": "code",
   "execution_count": 60,
   "metadata": {},
   "outputs": [
    {
     "name": "stdout",
     "output_type": "stream",
     "text": [
      "900 15 / 26\n",
      "==========\n"
     ]
    },
    {
     "name": "stderr",
     "output_type": "stream",
     "text": [
      "c:\\program files (x86)\\microsoft visual studio\\shared\\python36_64\\lib\\site-packages\\ipykernel_launcher.py:14: UserWarning: Implicit dimension choice for softmax has been deprecated. Change the call to include dim=X as an argument.\n",
      "  \n"
     ]
    }
   ],
   "source": [
    "accuarcy_list = []\n",
    "inputs = pt.from_numpy(np.array(test_d)).float()\n",
    "labels = pt.from_numpy(np.array(y_test)).long()\n",
    "inputs = pt.autograd.Variable(inputs).cuda()\n",
    "labels = pt.autograd.Variable(labels).cuda()\n",
    "outputs = model(inputs)\n",
    "\n",
    "pred = outputs.cpu().data.numpy()\n",
    "label = labels.cpu().data.numpy()\n",
    "m = pred.argmax(1)\n",
    "acc = 0\n",
    "for i in range(len(pred)):\n",
    "    if(m[i] == label[i]): acc += 1\n",
    "    #print(m)\n",
    "    #print(label)\n",
    "print(acc,'/',len(pred))\n",
    "print('==========')\n",
    "\n",
    "#accuarcy_list.append(AccuarcyCompute(outputs,labels))\n",
    "#print(sum(accuarcy_list) / len(accuarcy_list))"
   ]
  }
 ],
 "metadata": {
  "kernelspec": {
   "display_name": "Python 3",
   "language": "python",
   "name": "python3"
  },
  "language_info": {
   "codemirror_mode": {
    "name": "ipython",
    "version": 3
   },
   "file_extension": ".py",
   "mimetype": "text/x-python",
   "name": "python",
   "nbconvert_exporter": "python",
   "pygments_lexer": "ipython3",
   "version": "3.6.6"
  }
 },
 "nbformat": 4,
 "nbformat_minor": 2
}
